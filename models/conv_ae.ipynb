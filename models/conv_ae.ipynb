{
 "cells": [
  {
   "cell_type": "markdown",
   "metadata": {},
   "source": [
    "# Convolutional Auto Encoder\n",
    "Convolutional auto encoder was first introdueced in the below paper.\n",
    "Stacked Convolutional Auto-Encoders for Hierarchical Feature Extraction, Jonathan Masci, U. Meier, D. Ciresan, J. Schmidhuber\n",
    "https://people.idsia.ch/~ciresan/data/icann2011.pdf\n"
   ]
  },
  {
   "cell_type": "code",
   "execution_count": 1,
   "metadata": {},
   "outputs": [],
   "source": [
    "import os\n",
    "\n",
    "import torch\n",
    "import torch.nn as nn\n",
    "from torchvision import datasets\n",
    "\n",
    "import torchvision.transforms as transforms\n",
    "from torch.utils.data import DataLoader\n",
    "\n",
    "\n",
    "from torchvision.utils import save_image\n",
    "\n",
    "device = torch.device(\"cuda\" if torch.cuda.is_available() else \"cpu\")"
   ]
  },
  {
   "cell_type": "code",
   "execution_count": 2,
   "metadata": {},
   "outputs": [],
   "source": [
    "batch_size = 100\n",
    "\n",
    "input_dim = 3\n",
    "hidden_dim = 128\n",
    "n_embeddings= 768\n",
    "output_dim = 3\n",
    "\n",
    "lr = 1e-3\n",
    "weight_decay =1e-5\n",
    "\n",
    "n_epochs = 10"
   ]
  },
  {
   "cell_type": "code",
   "execution_count": 3,
   "metadata": {},
   "outputs": [],
   "source": [
    "data_path = '../data'"
   ]
  },
  {
   "cell_type": "code",
   "execution_count": 4,
   "metadata": {},
   "outputs": [
    {
     "name": "stdout",
     "output_type": "stream",
     "text": [
      "Files already downloaded and verified\n",
      "Files already downloaded and verified\n"
     ]
    }
   ],
   "source": [
    "transform = transforms.Compose([transforms.ToTensor(), transforms.Normalize([0.5], [0.5])])\n",
    "\n",
    "loader_kwargs = {'num_workers': os.cpu_count()//2, 'pin_memory': True} \n",
    "\n",
    "train_data = datasets.CIFAR10(root=data_path, train=True, download=True, transform=transform)\n",
    "test_data = datasets.CIFAR10(root=data_path, train=False, download=True, transform=transform)\n",
    "\n",
    "train_loader = DataLoader(train_data, batch_size=batch_size, shuffle=True, **loader_kwargs)\n",
    "test_loader = DataLoader(test_data, batch_size=batch_size, shuffle=False, **loader_kwargs)\n"
   ]
  },
  {
   "cell_type": "code",
   "execution_count": 5,
   "metadata": {},
   "outputs": [],
   "source": [
    "class AutoEncoder(nn.Module):\n",
    "\n",
    "    def __init__(self):\n",
    "        super(AutoEncoder,self).__init__()\n",
    "        \n",
    "        self.encoder = nn.Sequential(\n",
    "            nn.Conv2d(3, 6, kernel_size=5),\n",
    "            nn.LeakyReLU(True),\n",
    "            nn.Conv2d(6,16,kernel_size=5),\n",
    "            nn.LeakyReLU(True))\n",
    "\n",
    "        self.decoder = nn.Sequential(             \n",
    "            nn.ConvTranspose2d(16,6,kernel_size=5),\n",
    "            nn.LeakyReLU(True),\n",
    "            nn.ConvTranspose2d(6,3,kernel_size=5),\n",
    "            nn.LeakyReLU(True),\n",
    "            nn.Sigmoid())\n",
    "\n",
    "    def forward(self,x):\n",
    "        x = self.encoder(x)\n",
    "        x = self.decoder(x)\n",
    "        return x\n",
    "\n",
    "model = AutoEncoder().to(device)"
   ]
  },
  {
   "cell_type": "code",
   "execution_count": 6,
   "metadata": {},
   "outputs": [],
   "source": [
    "criterion = nn.MSELoss()\n",
    "optimizer = torch.optim.AdamW(model.parameters(), lr = lr)"
   ]
  },
  {
   "cell_type": "code",
   "execution_count": 7,
   "metadata": {},
   "outputs": [],
   "source": [
    "saved_dir = 'cvae_images'\n",
    "os.makedirs(saved_dir, exist_ok= True)"
   ]
  },
  {
   "cell_type": "code",
   "execution_count": 8,
   "metadata": {},
   "outputs": [
    {
     "name": "stdout",
     "output_type": "stream",
     "text": [
      "epoch: 1/10, loss:0.1576\n",
      "epoch: 2/10, loss:0.1584\n",
      "epoch: 3/10, loss:0.1674\n",
      "epoch: 4/10, loss:0.1446\n",
      "epoch: 5/10, loss:0.1633\n",
      "epoch: 6/10, loss:0.1348\n",
      "epoch: 7/10, loss:0.1536\n",
      "epoch: 8/10, loss:0.1598\n",
      "epoch: 9/10, loss:0.1348\n",
      "epoch: 10/10, loss:0.1490\n"
     ]
    }
   ],
   "source": [
    "loss_list = []\n",
    "for epoch in range(n_epochs):\n",
    "    for batch_idx, data in enumerate(train_loader):\n",
    "        img, label = data\n",
    "        img = img.to(device)\n",
    "\n",
    "        output = model(img)\n",
    "        loss = criterion(output, img)\n",
    "\n",
    "        optimizer.zero_grad()\n",
    "        loss.backward()\n",
    "        optimizer.step()\n",
    "        loss_list.append(loss.item())\n",
    "\n",
    "    \n",
    "    # ===== save images and print logs =====\n",
    "    save_image(output.data[:25], f\"{saved_dir}/{epoch+1}.png\", nrow=5, normalize=True)\n",
    "    print(f'epoch: {epoch+1}/{n_epochs}, loss: {loss.item() :.4f}')"
   ]
  }
 ],
 "metadata": {
  "interpreter": {
   "hash": "d4d1e4263499bec80672ea0156c357c1ee493ec2b1c70f0acce89fc37c4a6abe"
  },
  "kernelspec": {
   "display_name": "Python 3.7.11 64-bit ('base': conda)",
   "language": "python",
   "name": "python3"
  },
  "language_info": {
   "codemirror_mode": {
    "name": "ipython",
    "version": 3
   },
   "file_extension": ".py",
   "mimetype": "text/x-python",
   "name": "python",
   "nbconvert_exporter": "python",
   "pygments_lexer": "ipython3",
   "version": "3.7.11"
  },
  "orig_nbformat": 4
 },
 "nbformat": 4,
 "nbformat_minor": 2
}
